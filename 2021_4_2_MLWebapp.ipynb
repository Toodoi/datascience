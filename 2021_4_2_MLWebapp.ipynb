{
  "nbformat": 4,
  "nbformat_minor": 0,
  "metadata": {
    "colab": {
      "name": "2021-4-2-MLWebapp.ipynb",
      "provenance": [],
      "authorship_tag": "ABX9TyON6EBg2dqhz3QY+jeHmR7f",
      "include_colab_link": true
    },
    "kernelspec": {
      "name": "python3",
      "display_name": "Python 3"
    },
    "language_info": {
      "name": "python"
    }
  },
  "cells": [
    {
      "cell_type": "markdown",
      "metadata": {
        "id": "view-in-github",
        "colab_type": "text"
      },
      "source": [
        "<a href=\"https://colab.research.google.com/github/Toodoi/datascience/blob/master/2021_4_2_MLWebapp.ipynb\" target=\"_parent\"><img src=\"https://colab.research.google.com/assets/colab-badge.svg\" alt=\"Open In Colab\"/></a>"
      ]
    },
    {
      "cell_type": "markdown",
      "metadata": {
        "id": "nUWDKwf3Nvs5"
      },
      "source": [
        "# \"Data Science Web App\"\n",
        "> \"Web App for a Kaggle data set using Streamlit and deployed on Heroku\"\n",
        "\n",
        "- toc: false\n",
        "- branch: master\n",
        "- comments: true\n",
        "- categories: [machine learning, dashboard, webapp]\n",
        "- hide: false"
      ]
    },
    {
      "cell_type": "markdown",
      "metadata": {
        "id": "Y16UoixSSQeY"
      },
      "source": [
        "This week I decided to have a crack at making a simple Web App using Streamlit. Streamlit is a Python library that allows you to quickly turn Python scripts into interactive applications. It is great for data science applications to visualise the data and allow interactability with charts and models.\n",
        "\n",
        "For this exercise I decided to take a look at a fresh data set and found one on Kaggle with the problem of trying to predict rain in Australia which I found interesting given the recent heavy rains on the east coast. I used a random forest for the model and made a few charts with Plotly to show some of the more interesting aspects of the data set. However I ended up replacing most of the Plotly interactive charts with static images because they were slowling the application down.\n"
      ]
    },
    {
      "cell_type": "markdown",
      "metadata": {
        "id": "ZaOX3gPKTjHW"
      },
      "source": [
        "I deployed the app using Heroku and you can check it out [here](https://rain-prediction-webapp.herokuapp.com/). You can also check out the repo for this project on [GitHub](https://github.com/Toodoi/streamlit-MLWebApp)."
      ]
    },
    {
      "cell_type": "code",
      "metadata": {
        "id": "9g0uaxDeTsej"
      },
      "source": [
        ""
      ],
      "execution_count": null,
      "outputs": []
    }
  ]
}